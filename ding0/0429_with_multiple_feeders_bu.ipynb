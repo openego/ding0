{
 "cells": [
  {
   "cell_type": "code",
   "execution_count": 1,
   "id": "29f6c980-8725-444f-9e67-b9ef9baff52b",
   "metadata": {},
   "outputs": [],
   "source": [
    "import warnings\n",
    "\n",
    "from pandas.core.common import SettingWithCopyWarning\n",
    "\n",
    "warnings.simplefilter(action=\"ignore\", category=SettingWithCopyWarning)"
   ]
  },
  {
   "cell_type": "code",
   "execution_count": 2,
   "id": "43d60fe7-7c20-4cf7-bd2a-645a967a2554",
   "metadata": {},
   "outputs": [],
   "source": [
    "%%capture\n",
    "\n",
    "from ding0.core import NetworkDing0\n",
    "from ding0.tools.logger import setup_logger\n",
    "from ding0.tools.results import save_nd_to_pickle\n",
    "from ding0.tools.plots import plot_mv_topology\n",
    "from egoio.tools import db\n",
    "from sqlalchemy.orm import sessionmaker\n",
    "import oedialect\n",
    "\n",
    "from ding0.tools import results # to load pickl file\n",
    "\n",
    "\n",
    "# create new network\n",
    "nd = NetworkDing0(name='network')\n",
    "\n",
    "\n",
    "# set ID of MV grid district\n",
    "mv_grid_districts = [40] # fn 40, 912"
   ]
  },
  {
   "cell_type": "code",
   "execution_count": 3,
   "id": "c8dc79f9-ce55-4292-957a-9bb42aa2b8bd",
   "metadata": {},
   "outputs": [],
   "source": [
    "# TODO set in config file\n",
    "ding0_default=False\n",
    "\n",
    "engine = db.connection(section='oedb_dialect', readonly=True)\n",
    "session = sessionmaker(bind=engine)()\n",
    "create_lvgd_geo_method='convex_hull' # off, convex_hull"
   ]
  },
  {
   "cell_type": "code",
   "execution_count": 4,
   "id": "619a3f48-6223-461a-b374-db976f389bdd",
   "metadata": {},
   "outputs": [
    {
     "name": "stdout",
     "output_type": "stream",
     "text": [
      "Password correct! Database connection established.\n"
     ]
    },
    {
     "name": "stderr",
     "output_type": "stream",
     "text": [
      "Found connected graph, iteration 0 of max. 4.\n",
      "Simplified graph: 3 to 2 nodes, 4 to 2 edges\n",
      "all clusters are in range\n"
     ]
    },
    {
     "name": "stdout",
     "output_type": "stream",
     "text": [
      "Password correct! Database connection established.\n"
     ]
    },
    {
     "name": "stderr",
     "output_type": "stream",
     "text": [
      "Graph already fully connected.\n",
      "Simplified graph: 6 to 4 nodes, 10 to 6 edges\n",
      "all clusters are in range\n"
     ]
    },
    {
     "name": "stdout",
     "output_type": "stream",
     "text": [
      "Password correct! Database connection established.\n"
     ]
    },
    {
     "name": "stderr",
     "output_type": "stream",
     "text": [
      "Graph already fully connected.\n",
      "Simplified graph: 6 to 2 nodes, 10 to 2 edges\n",
      "all clusters are in range\n"
     ]
    },
    {
     "name": "stdout",
     "output_type": "stream",
     "text": [
      "Password correct! Database connection established.\n"
     ]
    },
    {
     "name": "stderr",
     "output_type": "stream",
     "text": [
      "Finding connected graph, max. iterations 4 trespassed. Break.\n",
      "Simplified graph: 18 to 6 nodes, 32 to 8 edges\n",
      "Simplified graph: 6 to 5 nodes, 10 to 8 edges\n",
      "all clusters are in range\n"
     ]
    },
    {
     "name": "stdout",
     "output_type": "stream",
     "text": [
      "Password correct! Database connection established.\n"
     ]
    },
    {
     "name": "stderr",
     "output_type": "stream",
     "text": [
      "Finding connected graph, iteration 2 of max. 4.\n",
      "Simplified graph: 9 to 5 nodes, 14 to 6 edges\n",
      "Simplified graph: 8 to 4 nodes, 14 to 6 edges\n",
      "all clusters are in range\n"
     ]
    },
    {
     "name": "stdout",
     "output_type": "stream",
     "text": [
      "Password correct! Database connection established.\n"
     ]
    },
    {
     "name": "stderr",
     "output_type": "stream",
     "text": [
      "Graph already fully connected.\n",
      "Simplified graph: 13 to 9 nodes, 24 to 16 edges\n",
      "all clusters are in range\n"
     ]
    },
    {
     "name": "stdout",
     "output_type": "stream",
     "text": [
      "Password correct! Database connection established.\n"
     ]
    },
    {
     "name": "stderr",
     "output_type": "stream",
     "text": [
      "Graph already fully connected.\n",
      "Simplified graph: 7 to 5 nodes, 12 to 8 edges\n",
      "all clusters are in range\n"
     ]
    },
    {
     "name": "stdout",
     "output_type": "stream",
     "text": [
      "Password correct! Database connection established.\n"
     ]
    },
    {
     "name": "stderr",
     "output_type": "stream",
     "text": [
      "Graph already fully connected.\n",
      "buildings_w_loads_df.empty. No buildings found in MV mv_grid_district_40, LA 2625\n"
     ]
    },
    {
     "name": "stdout",
     "output_type": "stream",
     "text": [
      "Password correct! Database connection established.\n"
     ]
    },
    {
     "name": "stderr",
     "output_type": "stream",
     "text": [
      "Graph already fully connected.\n",
      "Simplified graph: 15 to 8 nodes, 30 to 16 edges\n",
      "all clusters are in range\n"
     ]
    },
    {
     "name": "stdout",
     "output_type": "stream",
     "text": [
      "Password correct! Database connection established.\n"
     ]
    },
    {
     "name": "stderr",
     "output_type": "stream",
     "text": [
      "Graph already fully connected.\n",
      "Simplified graph: 4 to 4 nodes, 6 to 6 edges\n",
      "all clusters are in range\n"
     ]
    },
    {
     "name": "stdout",
     "output_type": "stream",
     "text": [
      "Password correct! Database connection established.\n"
     ]
    },
    {
     "name": "stderr",
     "output_type": "stream",
     "text": [
      "Graph already fully connected.\n",
      "Simplified graph: 30 to 18 nodes, 58 to 34 edges\n",
      "all clusters are in range\n"
     ]
    },
    {
     "name": "stdout",
     "output_type": "stream",
     "text": [
      "Password correct! Database connection established.\n"
     ]
    },
    {
     "name": "stderr",
     "output_type": "stream",
     "text": [
      "Graph already fully connected.\n",
      "Simplified graph: 7 to 3 nodes, 12 to 4 edges\n",
      "all clusters are in range\n"
     ]
    },
    {
     "name": "stdout",
     "output_type": "stream",
     "text": [
      "Password correct! Database connection established.\n"
     ]
    },
    {
     "name": "stderr",
     "output_type": "stream",
     "text": [
      "Found connected graph, iteration 0 of max. 4.\n",
      "Simplified graph: 734 to 460 nodes, 1498 to 950 edges\n",
      "all clusters are in range\n"
     ]
    },
    {
     "name": "stdout",
     "output_type": "stream",
     "text": [
      "Password correct! Database connection established.\n"
     ]
    },
    {
     "name": "stderr",
     "output_type": "stream",
     "text": [
      "Finding connected graph, iteration 1 of max. 4.\n",
      "Simplified graph: 6 to 2 nodes, 10 to 2 edges\n",
      "Simplified graph: 3 to 3 nodes, 4 to 4 edges\n",
      "all clusters are in range\n"
     ]
    },
    {
     "name": "stdout",
     "output_type": "stream",
     "text": [
      "Password correct! Database connection established.\n"
     ]
    },
    {
     "name": "stderr",
     "output_type": "stream",
     "text": [
      "Finding connected graph, iteration 2 of max. 4.\n",
      "Simplified graph: 6 to 6 nodes, 8 to 8 edges\n",
      "Simplified graph: 32 to 21 nodes, 62 to 40 edges\n",
      "all clusters are in range\n"
     ]
    },
    {
     "name": "stdout",
     "output_type": "stream",
     "text": [
      "Password correct! Database connection established.\n"
     ]
    },
    {
     "name": "stderr",
     "output_type": "stream",
     "text": [
      "Finding connected graph, iteration 1 of max. 4.\n",
      "Simplified graph: 98 to 36 nodes, 174 to 50 edges\n",
      "Simplified graph: 620 to 437 nodes, 1294 to 928 edges\n",
      "all clusters are in range\n"
     ]
    },
    {
     "name": "stdout",
     "output_type": "stream",
     "text": [
      "Password correct! Database connection established.\n"
     ]
    },
    {
     "name": "stderr",
     "output_type": "stream",
     "text": [
      "Finding connected graph, iteration 1 of max. 4.\n",
      "Simplified graph: 7 to 2 nodes, 12 to 2 edges\n",
      "Simplified graph: 34 to 27 nodes, 66 to 52 edges\n",
      "all clusters are in range\n",
      "ways_sql_df.empty. No ways found in MV mv_grid_district_40, LA 3089 \n",
      "Build synthetic graph instead.\n",
      "Graph already fully connected.\n"
     ]
    },
    {
     "name": "stdout",
     "output_type": "stream",
     "text": [
      "Password correct! Database connection established.\n"
     ]
    },
    {
     "name": "stderr",
     "output_type": "stream",
     "text": [
      "Simplified graph: 1 to 1 nodes, 0 to 0 edges\n",
      "all clusters are in range\n"
     ]
    },
    {
     "name": "stdout",
     "output_type": "stream",
     "text": [
      "Password correct! Database connection established.\n"
     ]
    },
    {
     "name": "stderr",
     "output_type": "stream",
     "text": [
      "Graph already fully connected.\n",
      "Simplified graph: 23 to 8 nodes, 46 to 16 edges\n",
      "all clusters are in range\n"
     ]
    },
    {
     "name": "stdout",
     "output_type": "stream",
     "text": [
      "Password correct! Database connection established.\n"
     ]
    },
    {
     "name": "stderr",
     "output_type": "stream",
     "text": [
      "Finding connected graph, iteration 1 of max. 4.\n",
      "Simplified graph: 7 to 7 nodes, 12 to 12 edges\n",
      "Simplified graph: 21 to 13 nodes, 48 to 32 edges\n",
      "all clusters are in range\n"
     ]
    },
    {
     "name": "stdout",
     "output_type": "stream",
     "text": [
      "Password correct! Database connection established.\n"
     ]
    },
    {
     "name": "stderr",
     "output_type": "stream",
     "text": [
      "Graph already fully connected.\n",
      "Simplified graph: 2 to 2 nodes, 2 to 2 edges\n",
      "all clusters are in range\n"
     ]
    },
    {
     "name": "stdout",
     "output_type": "stream",
     "text": [
      "Password correct! Database connection established.\n"
     ]
    },
    {
     "name": "stderr",
     "output_type": "stream",
     "text": [
      "Graph already fully connected.\n",
      "Simplified graph: 13 to 8 nodes, 24 to 14 edges\n",
      "all clusters are in range\n"
     ]
    },
    {
     "name": "stdout",
     "output_type": "stream",
     "text": [
      "Password correct! Database connection established.\n"
     ]
    },
    {
     "name": "stderr",
     "output_type": "stream",
     "text": [
      "Finding connected graph, iteration 2 of max. 4.\n",
      "Simplified graph: 13 to 8 nodes, 22 to 12 edges\n",
      "Simplified graph: 58 to 44 nodes, 122 to 94 edges\n",
      "all clusters are in range\n"
     ]
    },
    {
     "name": "stdout",
     "output_type": "stream",
     "text": [
      "Password correct! Database connection established.\n"
     ]
    },
    {
     "name": "stderr",
     "output_type": "stream",
     "text": [
      "Graph already fully connected.\n",
      "Simplified graph: 12 to 10 nodes, 24 to 20 edges\n",
      "all clusters are in range\n"
     ]
    },
    {
     "name": "stdout",
     "output_type": "stream",
     "text": [
      "Password correct! Database connection established.\n"
     ]
    },
    {
     "name": "stderr",
     "output_type": "stream",
     "text": [
      "Finding connected graph, iteration 3 of max. 4.\n",
      "Simplified graph: 11 to 4 nodes, 18 to 4 edges\n",
      "Simplified graph: 10 to 6 nodes, 18 to 10 edges\n",
      "all clusters are in range\n"
     ]
    },
    {
     "name": "stdout",
     "output_type": "stream",
     "text": [
      "Password correct! Database connection established.\n"
     ]
    },
    {
     "name": "stderr",
     "output_type": "stream",
     "text": [
      "Graph already fully connected.\n",
      "Simplified graph: 3 to 2 nodes, 4 to 2 edges\n",
      "all clusters are in range\n"
     ]
    },
    {
     "name": "stdout",
     "output_type": "stream",
     "text": [
      "Password correct! Database connection established.\n"
     ]
    },
    {
     "name": "stderr",
     "output_type": "stream",
     "text": [
      "Finding connected graph, iteration 1 of max. 4.\n",
      "Simplified graph: 15 to 12 nodes, 22 to 16 edges\n",
      "Simplified graph: 53 to 36 nodes, 106 to 72 edges\n",
      "all clusters are in range\n"
     ]
    },
    {
     "name": "stdout",
     "output_type": "stream",
     "text": [
      "Password correct! Database connection established.\n"
     ]
    },
    {
     "name": "stderr",
     "output_type": "stream",
     "text": [
      "Graph already fully connected.\n",
      "Simplified graph: 6 to 6 nodes, 10 to 10 edges\n",
      "all clusters are in range\n"
     ]
    },
    {
     "name": "stdout",
     "output_type": "stream",
     "text": [
      "Password correct! Database connection established.\n"
     ]
    },
    {
     "name": "stderr",
     "output_type": "stream",
     "text": [
      "Graph already fully connected.\n",
      "Simplified graph: 14 to 10 nodes, 26 to 18 edges\n",
      "all clusters are in range\n"
     ]
    },
    {
     "name": "stdout",
     "output_type": "stream",
     "text": [
      "Password correct! Database connection established.\n"
     ]
    },
    {
     "name": "stderr",
     "output_type": "stream",
     "text": [
      "Graph already fully connected.\n",
      "Simplified graph: 3 to 2 nodes, 4 to 2 edges\n",
      "all clusters are in range\n"
     ]
    },
    {
     "name": "stdout",
     "output_type": "stream",
     "text": [
      "Password correct! Database connection established.\n"
     ]
    },
    {
     "name": "stderr",
     "output_type": "stream",
     "text": [
      "Graph already fully connected.\n",
      "Simplified graph: 2 to 2 nodes, 2 to 2 edges\n",
      "all clusters are in range\n"
     ]
    },
    {
     "name": "stdout",
     "output_type": "stream",
     "text": [
      "Password correct! Database connection established.\n"
     ]
    },
    {
     "name": "stderr",
     "output_type": "stream",
     "text": [
      "Graph already fully connected.\n",
      "Simplified graph: 3 to 3 nodes, 4 to 4 edges\n",
      "all clusters are in range\n"
     ]
    },
    {
     "name": "stdout",
     "output_type": "stream",
     "text": [
      "Password correct! Database connection established.\n"
     ]
    },
    {
     "name": "stderr",
     "output_type": "stream",
     "text": [
      "Graph already fully connected.\n",
      "Simplified graph: 11 to 4 nodes, 20 to 6 edges\n",
      "all clusters are in range\n"
     ]
    },
    {
     "name": "stdout",
     "output_type": "stream",
     "text": [
      "Password correct! Database connection established.\n"
     ]
    },
    {
     "name": "stderr",
     "output_type": "stream",
     "text": [
      "Graph already fully connected.\n",
      "Simplified graph: 16 to 9 nodes, 30 to 16 edges\n",
      "all clusters are in range\n"
     ]
    },
    {
     "name": "stdout",
     "output_type": "stream",
     "text": [
      "Password correct! Database connection established.\n"
     ]
    },
    {
     "name": "stderr",
     "output_type": "stream",
     "text": [
      "Finding connected graph, iteration 3 of max. 4.\n",
      "Simplified graph: 18 to 7 nodes, 30 to 8 edges\n",
      "Simplified graph: 18 to 10 nodes, 36 to 20 edges\n",
      "all clusters are in range\n"
     ]
    },
    {
     "name": "stdout",
     "output_type": "stream",
     "text": [
      "Password correct! Database connection established.\n"
     ]
    },
    {
     "name": "stderr",
     "output_type": "stream",
     "text": [
      "Graph already fully connected.\n",
      "Simplified graph: 6 to 4 nodes, 10 to 6 edges\n",
      "all clusters are in range\n"
     ]
    },
    {
     "name": "stdout",
     "output_type": "stream",
     "text": [
      "Password correct! Database connection established.\n"
     ]
    },
    {
     "name": "stderr",
     "output_type": "stream",
     "text": [
      "Graph already fully connected.\n",
      "Simplified graph: 14 to 8 nodes, 26 to 14 edges\n",
      "all clusters are in range\n"
     ]
    },
    {
     "name": "stdout",
     "output_type": "stream",
     "text": [
      "Password correct! Database connection established.\n"
     ]
    },
    {
     "name": "stderr",
     "output_type": "stream",
     "text": [
      "Graph already fully connected.\n",
      "Simplified graph: 14 to 10 nodes, 26 to 18 edges\n",
      "all clusters are in range\n"
     ]
    },
    {
     "name": "stdout",
     "output_type": "stream",
     "text": [
      "Password correct! Database connection established.\n"
     ]
    },
    {
     "name": "stderr",
     "output_type": "stream",
     "text": [
      "no graph found in origin polygon of MV mv_grid_district_40, LA 4212\n"
     ]
    },
    {
     "name": "stdout",
     "output_type": "stream",
     "text": [
      "Password correct! Database connection established.\n"
     ]
    },
    {
     "name": "stderr",
     "output_type": "stream",
     "text": [
      "Finding connected graph, max. iterations 4 trespassed. Break.\n",
      "Simplified graph: 5 to 2 nodes, 8 to 2 edges\n",
      "Simplified graph: 5 to 4 nodes, 8 to 6 edges\n",
      "all clusters are in range\n"
     ]
    },
    {
     "name": "stdout",
     "output_type": "stream",
     "text": [
      "Password correct! Database connection established.\n"
     ]
    },
    {
     "name": "stderr",
     "output_type": "stream",
     "text": [
      "Finding connected graph, iteration 1 of max. 4.\n",
      "Simplified graph: 2649 to 852 nodes, 5366 to 1772 edges\n",
      "Simplified graph: 13315 to 8052 nodes, 30388 to 19862 edges\n",
      "all clusters are in range\n"
     ]
    },
    {
     "name": "stdout",
     "output_type": "stream",
     "text": [
      "Password correct! Database connection established.\n"
     ]
    },
    {
     "name": "stderr",
     "output_type": "stream",
     "text": [
      "Found connected graph, iteration 0 of max. 4.\n",
      "Simplified graph: 181 to 125 nodes, 374 to 262 edges\n",
      "all clusters are in range\n"
     ]
    },
    {
     "name": "stdout",
     "output_type": "stream",
     "text": [
      "Password correct! Database connection established.\n"
     ]
    },
    {
     "name": "stderr",
     "output_type": "stream",
     "text": [
      "Finding connected graph, iteration 1 of max. 4.\n",
      "Simplified graph: 94 to 22 nodes, 170 to 26 edges\n",
      "Simplified graph: 716 to 479 nodes, 1484 to 1010 edges\n",
      "at least one node trespasses dist to substation.                                cluster again with n_clusters+=1\n",
      "after increment; n_cluster 5\n",
      "all clusters are in range\n"
     ]
    },
    {
     "name": "stdout",
     "output_type": "stream",
     "text": [
      "Password correct! Database connection established.\n"
     ]
    },
    {
     "name": "stderr",
     "output_type": "stream",
     "text": [
      "Finding connected graph, iteration 1 of max. 4.\n",
      "Simplified graph: 27 to 16 nodes, 48 to 26 edges\n",
      "Simplified graph: 64 to 35 nodes, 142 to 84 edges\n",
      "all clusters are in range\n"
     ]
    },
    {
     "name": "stdout",
     "output_type": "stream",
     "text": [
      "Password correct! Database connection established.\n"
     ]
    },
    {
     "name": "stderr",
     "output_type": "stream",
     "text": [
      "Finding connected graph, max. iterations 4 trespassed. Break.\n",
      "Simplified graph: 80 to 37 nodes, 166 to 80 edges\n",
      "Simplified graph: 46 to 26 nodes, 90 to 50 edges\n",
      "all clusters are in range\n"
     ]
    },
    {
     "name": "stdout",
     "output_type": "stream",
     "text": [
      "Password correct! Database connection established.\n"
     ]
    },
    {
     "name": "stderr",
     "output_type": "stream",
     "text": [
      "Graph already fully connected.\n",
      "Simplified graph: 2 to 2 nodes, 2 to 2 edges\n",
      "all clusters are in range\n"
     ]
    },
    {
     "name": "stdout",
     "output_type": "stream",
     "text": [
      "Password correct! Database connection established.\n"
     ]
    },
    {
     "name": "stderr",
     "output_type": "stream",
     "text": [
      "Graph already fully connected.\n",
      "Simplified graph: 5 to 3 nodes, 8 to 4 edges\n",
      "all clusters are in range\n"
     ]
    },
    {
     "name": "stdout",
     "output_type": "stream",
     "text": [
      "Password correct! Database connection established.\n"
     ]
    },
    {
     "name": "stderr",
     "output_type": "stream",
     "text": [
      "Finding connected graph, iteration 3 of max. 4.\n",
      "Simplified graph: 10 to 6 nodes, 16 to 8 edges\n",
      "Simplified graph: 5 to 3 nodes, 8 to 4 edges\n",
      "all clusters are in range\n"
     ]
    },
    {
     "name": "stdout",
     "output_type": "stream",
     "text": [
      "Password correct! Database connection established.\n"
     ]
    },
    {
     "name": "stderr",
     "output_type": "stream",
     "text": [
      "Graph already fully connected.\n",
      "Simplified graph: 3 to 2 nodes, 4 to 2 edges\n",
      "all clusters are in range\n"
     ]
    },
    {
     "name": "stdout",
     "output_type": "stream",
     "text": [
      "Password correct! Database connection established.\n"
     ]
    },
    {
     "name": "stderr",
     "output_type": "stream",
     "text": [
      "Graph already fully connected.\n",
      "Simplified graph: 7 to 4 nodes, 12 to 6 edges\n",
      "all clusters are in range\n"
     ]
    },
    {
     "name": "stdout",
     "output_type": "stream",
     "text": [
      "Password correct! Database connection established.\n"
     ]
    },
    {
     "name": "stderr",
     "output_type": "stream",
     "text": [
      "Graph already fully connected.\n",
      "Simplified graph: 1 to 1 nodes, 0 to 0 edges\n",
      "all clusters are in range\n"
     ]
    },
    {
     "name": "stdout",
     "output_type": "stream",
     "text": [
      "Password correct! Database connection established.\n"
     ]
    },
    {
     "name": "stderr",
     "output_type": "stream",
     "text": [
      "Finding connected graph, iteration 1 of max. 4.\n",
      "Simplified graph: 89 to 32 nodes, 154 to 40 edges\n",
      "Simplified graph: 366 to 267 nodes, 770 to 572 edges\n",
      "all clusters are in range\n"
     ]
    },
    {
     "name": "stdout",
     "output_type": "stream",
     "text": [
      "Password correct! Database connection established.\n"
     ]
    },
    {
     "name": "stderr",
     "output_type": "stream",
     "text": [
      "Graph already fully connected.\n",
      "Simplified graph: 11 to 9 nodes, 20 to 16 edges\n",
      "all clusters are in range\n",
      "ways_sql_df.empty. No ways found in MV mv_grid_district_40, LA 4670 \n",
      "Build synthetic graph instead.\n",
      "Graph already fully connected.\n"
     ]
    },
    {
     "name": "stdout",
     "output_type": "stream",
     "text": [
      "Password correct! Database connection established.\n"
     ]
    },
    {
     "name": "stderr",
     "output_type": "stream",
     "text": [
      "Simplified graph: 1 to 1 nodes, 0 to 0 edges\n",
      "all clusters are in range\n"
     ]
    },
    {
     "name": "stdout",
     "output_type": "stream",
     "text": [
      "Password correct! Database connection established.\n"
     ]
    },
    {
     "name": "stderr",
     "output_type": "stream",
     "text": [
      "Graph already fully connected.\n",
      "Simplified graph: 41 to 23 nodes, 88 to 52 edges\n",
      "all clusters are in range\n"
     ]
    },
    {
     "name": "stdout",
     "output_type": "stream",
     "text": [
      "Password correct! Database connection established.\n"
     ]
    },
    {
     "name": "stderr",
     "output_type": "stream",
     "text": [
      "Graph already fully connected.\n",
      "buildings_w_loads_df.empty. No buildings found in MV mv_grid_district_40, LA 4735\n"
     ]
    },
    {
     "name": "stdout",
     "output_type": "stream",
     "text": [
      "Password correct! Database connection established.\n"
     ]
    },
    {
     "name": "stderr",
     "output_type": "stream",
     "text": [
      "Graph already fully connected.\n",
      "Simplified graph: 4 to 4 nodes, 6 to 6 edges\n",
      "all clusters are in range\n"
     ]
    },
    {
     "name": "stdout",
     "output_type": "stream",
     "text": [
      "Password correct! Database connection established.\n"
     ]
    },
    {
     "name": "stderr",
     "output_type": "stream",
     "text": [
      "Graph already fully connected.\n",
      "Simplified graph: 15 to 9 nodes, 28 to 16 edges\n",
      "all clusters are in range\n"
     ]
    },
    {
     "name": "stdout",
     "output_type": "stream",
     "text": [
      "Password correct! Database connection established.\n"
     ]
    },
    {
     "name": "stderr",
     "output_type": "stream",
     "text": [
      "Graph already fully connected.\n",
      "Simplified graph: 19 to 6 nodes, 36 to 10 edges\n",
      "all clusters are in range\n"
     ]
    },
    {
     "name": "stdout",
     "output_type": "stream",
     "text": [
      "Password correct! Database connection established.\n"
     ]
    },
    {
     "name": "stderr",
     "output_type": "stream",
     "text": [
      "Graph already fully connected.\n",
      "Simplified graph: 205 to 90 nodes, 420 to 190 edges\n",
      "all clusters are in range\n"
     ]
    },
    {
     "name": "stdout",
     "output_type": "stream",
     "text": [
      "Password correct! Database connection established.\n"
     ]
    },
    {
     "name": "stderr",
     "output_type": "stream",
     "text": [
      "Graph already fully connected.\n",
      "Simplified graph: 10 to 8 nodes, 18 to 14 edges\n",
      "all clusters are in range\n",
      "ways_sql_df.empty. No ways found in MV mv_grid_district_40, LA 4868 \n",
      "Build synthetic graph instead.\n",
      "Graph already fully connected.\n"
     ]
    },
    {
     "name": "stdout",
     "output_type": "stream",
     "text": [
      "Password correct! Database connection established.\n"
     ]
    },
    {
     "name": "stderr",
     "output_type": "stream",
     "text": [
      "Simplified graph: 1 to 1 nodes, 0 to 0 edges\n",
      "all clusters are in range\n"
     ]
    },
    {
     "name": "stdout",
     "output_type": "stream",
     "text": [
      "Password correct! Database connection established.\n"
     ]
    },
    {
     "name": "stderr",
     "output_type": "stream",
     "text": [
      "Finding connected graph, iteration 1 of max. 4.\n",
      "Simplified graph: 15 to 10 nodes, 24 to 14 edges\n",
      "Simplified graph: 44 to 24 nodes, 94 to 54 edges\n",
      "all clusters are in range\n"
     ]
    },
    {
     "name": "stdout",
     "output_type": "stream",
     "text": [
      "Password correct! Database connection established.\n"
     ]
    },
    {
     "name": "stderr",
     "output_type": "stream",
     "text": [
      "Finding connected graph, iteration 3 of max. 4.\n",
      "Simplified graph: 99 to 45 nodes, 190 to 82 edges\n",
      "Simplified graph: 132 to 63 nodes, 324 to 186 edges\n",
      "at least one node trespasses dist to substation.                                cluster again with n_clusters+=1\n",
      "after increment; n_cluster 2\n",
      "all clusters are in range\n"
     ]
    },
    {
     "name": "stdout",
     "output_type": "stream",
     "text": [
      "Password correct! Database connection established.\n"
     ]
    },
    {
     "name": "stderr",
     "output_type": "stream",
     "text": [
      "Finding connected graph, iteration 1 of max. 4.\n",
      "Simplified graph: 25 to 14 nodes, 44 to 22 edges\n",
      "Simplified graph: 117 to 60 nodes, 258 to 144 edges\n",
      "all clusters are in range\n"
     ]
    },
    {
     "name": "stdout",
     "output_type": "stream",
     "text": [
      "Password correct! Database connection established.\n"
     ]
    },
    {
     "name": "stderr",
     "output_type": "stream",
     "text": [
      "Finding connected graph, iteration 2 of max. 4.\n",
      "Simplified graph: 27 to 18 nodes, 40 to 22 edges\n",
      "Simplified graph: 124 to 93 nodes, 254 to 192 edges\n",
      "all clusters are in range\n"
     ]
    },
    {
     "name": "stdout",
     "output_type": "stream",
     "text": [
      "Password correct! Database connection established.\n"
     ]
    },
    {
     "name": "stderr",
     "output_type": "stream",
     "text": [
      "Graph already fully connected.\n",
      "Simplified graph: 5 to 4 nodes, 8 to 6 edges\n",
      "all clusters are in range\n"
     ]
    },
    {
     "name": "stdout",
     "output_type": "stream",
     "text": [
      "Password correct! Database connection established.\n"
     ]
    },
    {
     "name": "stderr",
     "output_type": "stream",
     "text": [
      "Graph already fully connected.\n",
      "Simplified graph: 6 to 5 nodes, 10 to 8 edges\n",
      "all clusters are in range\n"
     ]
    },
    {
     "name": "stdout",
     "output_type": "stream",
     "text": [
      "Password correct! Database connection established.\n"
     ]
    },
    {
     "name": "stderr",
     "output_type": "stream",
     "text": [
      "Graph already fully connected.\n",
      "Simplified graph: 54 to 25 nodes, 108 to 50 edges\n",
      "all clusters are in range\n"
     ]
    },
    {
     "name": "stdout",
     "output_type": "stream",
     "text": [
      "Password correct! Database connection established.\n"
     ]
    },
    {
     "name": "stderr",
     "output_type": "stream",
     "text": [
      "Graph already fully connected.\n",
      "Simplified graph: 14 to 9 nodes, 28 to 18 edges\n",
      "all clusters are in range\n"
     ]
    },
    {
     "name": "stdout",
     "output_type": "stream",
     "text": [
      "Password correct! Database connection established.\n"
     ]
    },
    {
     "name": "stderr",
     "output_type": "stream",
     "text": [
      "Graph already fully connected.\n",
      "Simplified graph: 79 to 31 nodes, 156 to 60 edges\n",
      "all clusters are in range\n"
     ]
    },
    {
     "name": "stdout",
     "output_type": "stream",
     "text": [
      "Password correct! Database connection established.\n"
     ]
    },
    {
     "name": "stderr",
     "output_type": "stream",
     "text": [
      "Graph already fully connected.\n",
      "Simplified graph: 3 to 3 nodes, 4 to 4 edges\n",
      "all clusters are in range\n"
     ]
    },
    {
     "name": "stdout",
     "output_type": "stream",
     "text": [
      "Password correct! Database connection established.\n"
     ]
    },
    {
     "name": "stderr",
     "output_type": "stream",
     "text": [
      "Graph already fully connected.\n",
      "Simplified graph: 2 to 2 nodes, 2 to 2 edges\n",
      "all clusters are in range\n"
     ]
    },
    {
     "name": "stdout",
     "output_type": "stream",
     "text": [
      "Password correct! Database connection established.\n"
     ]
    },
    {
     "name": "stderr",
     "output_type": "stream",
     "text": [
      "Finding connected graph, iteration 1 of max. 4.\n",
      "Simplified graph: 7 to 6 nodes, 8 to 6 edges\n",
      "Simplified graph: 101 to 82 nodes, 206 to 168 edges\n",
      "all clusters are in range\n"
     ]
    },
    {
     "name": "stdout",
     "output_type": "stream",
     "text": [
      "Password correct! Database connection established.\n"
     ]
    },
    {
     "name": "stderr",
     "output_type": "stream",
     "text": [
      "Graph already fully connected.\n",
      "Simplified graph: 2 to 2 nodes, 2 to 2 edges\n",
      "all clusters are in range\n",
      "=====> MV Grid Districts imported\n"
     ]
    },
    {
     "name": "stdout",
     "output_type": "stream",
     "text": [
      "CPU times: user 1min 40s, sys: 3.6 s, total: 1min 44s\n",
      "Wall time: 3min 34s\n"
     ]
    }
   ],
   "source": [
    "%%time\n",
    "\n",
    "# STEP 1\n",
    "nd.import_mv_grid_districts(session, mv_grid_districts_no=mv_grid_districts,\n",
    "                            ding0_default=ding0_default, need_parameterization=True,\n",
    "                            create_lvgd_geo_method=create_lvgd_geo_method)"
   ]
  },
  {
   "cell_type": "code",
   "execution_count": 5,
   "id": "d3a6f2db-ea1f-4ab8-93ca-2c59c319d26c",
   "metadata": {},
   "outputs": [],
   "source": [
    "import osmnx as ox\n",
    "import networkx as nx"
   ]
  },
  {
   "cell_type": "code",
   "execution_count": 6,
   "id": "080369fd-0597-4950-abea-69cfb93400ce",
   "metadata": {
    "tags": []
   },
   "outputs": [],
   "source": [
    "from shapely.geometry import LineString\n",
    "\n",
    "from ding0.core.network import BranchDing0\n",
    "from ding0.core.network.cable_distributors import LVCableDistributorDing0\n",
    "from ding0.core.network.loads import LVLoadDing0\n",
    "from ding0.tools import config as cfg_ding0\n",
    "\n",
    "from config.config_lv_grids_osm import get_config_osm, get_load_profile_categories\n",
    "from ding0.grid.lv_grid.parameterization import get_peak_load_for_residential\n",
    "\n",
    "import logging\n",
    "logger = logging.getLogger('ding0')\n",
    "\n",
    "def get_routed_graph(\n",
    "        graph, station_node, building_nodes, generator_nodes=None):\n",
    "    '''\n",
    "    routing via shortest path from station to loads and gens\n",
    "    input graph representing all streets in lvgd and \n",
    "        node of station in graph, all nodes of buildings.\n",
    "        generator_nodes is none by default due to they are connected \n",
    "        in a ding0 default way at a later point corresponding to load\n",
    "    remove edges which are not mandatory and return routed graph\n",
    "    '''\n",
    "    routed_graph = graph.copy()\n",
    "\n",
    "    edges_to_keep = []\n",
    "    for n in building_nodes:\n",
    "        route = nx.shortest_path(graph, n, station_node, weight='length')\n",
    "        for i, r in enumerate(route[:-1]):\n",
    "            edges_to_keep.append((r, route[i+1]))\n",
    "    edges_to_keep = list(set(edges_to_keep))\n",
    "    edges_to_del = []\n",
    "    for edge in list(graph.edges()):\n",
    "        if edge not in edges_to_keep:\n",
    "            if station_node not in edge:\n",
    "                edges_to_del.append(edge)\n",
    "    routed_graph.remove_edges_from(edges_to_del)\n",
    "    logging.info('Routing shortest path for each node to station. '\n",
    "                 f'{len(edges_to_del)} edges removed in graph to obtain '\n",
    "                 'shortest path tree.')\n",
    "    # due to edges are removed, nodes which are not connected anymore needs to be removed also\n",
    "    # e.g. nodes which representing intersections on ways but not mandatory for shortest tree\n",
    "    # graph to route loads to station need to be removed to dont add as ding0CableDist\n",
    "    for loose_components in list(nx.weakly_connected_components(routed_graph)):\n",
    "        if len(loose_components) == 1:  # there is only one not conencted node\n",
    "            for node in loose_components:\n",
    "                routed_graph.remove_node(node)\n",
    "\n",
    "    return routed_graph\n",
    "\n",
    "\n",
    "def get_edges_leaving_feeder(graph, starting_node, feeder, seen, seen_w_feeder, lv_station_nn):\n",
    "    \"\"\"\n",
    "    # get {edge: feederId} leaving the lv station.\n",
    "    # depending on its number at later its possible to\n",
    "    # add load residentials per feeder by formula of stetz:\n",
    "    # vid parameterization.get_peak_load_for_residential()\n",
    "    \"\"\"\n",
    "    # check if we already checked this node\n",
    "    if starting_node not in seen:\n",
    "\n",
    "        # if not checked yet, check it. get its edges and check its target nodes also\n",
    "        # get edges from starting node. edges are touple (starting_node, target_node)\n",
    "        new_target_nodes = graph.edges(starting_node)\n",
    "\n",
    "        # mark starting node as visited to dont check it again.\n",
    "        # save the feeder also that to count the number for each feeder \n",
    "        # respectively group_by(feeder) at a later point\n",
    "        seen.add(starting_node)\n",
    "        seen_w_feeder.update({starting_node: feeder})\n",
    "\n",
    "        # for each node we received of starting node\n",
    "        for nodes in new_target_nodes:\n",
    "\n",
    "            # increment feeder as long as edge is leaving the lv station\n",
    "            if starting_node == lv_station_nn:\n",
    "                feeder += 1\n",
    "\n",
    "            # get node connected via edge to starting node to follow \n",
    "            # itd edges until end to give these edges all same feeder id\n",
    "            if nodes[1] == starting_node:\n",
    "                node = nodes[0]\n",
    "            else:\n",
    "                node = nodes[1]\n",
    "\n",
    "            # recursive call to check its target nodes also \n",
    "            seen_w_feeder = get_edges_leaving_feeder(graph, node, feeder, seen, seen_w_feeder, lv_station_nn)\n",
    "\n",
    "    return seen_w_feeder\n",
    "\n",
    "\n",
    "def add_feeder_to_buildings(lvgd, graph):\n",
    "    \"\"\"\n",
    "    for each feeder/ Strang leaving ons\n",
    "    add id for feeder and the number of residentials connected to feeder\n",
    "    \"\"\"\n",
    "\n",
    "    # key is node/ osmid, value is feeder\n",
    "    feeder = 0  # set feeder = 0 due to its lv station what is root node\n",
    "\n",
    "    # in set and dictioniary we gonna save seen nodes and its feeder.\n",
    "    seen_nodes = set()\n",
    "    nodes_w_feeder = {}\n",
    "    load_profile_categories = get_load_profile_categories()\n",
    "\n",
    "    # get nodes with the feeder they connected with. starting point is lv station.\n",
    "    nodes_w_feeder = get_edges_leaving_feeder(graph, lvgd.lv_grid._station.osm_id_node,\n",
    "                                              feeder, seen_nodes, nodes_w_feeder,\n",
    "                                              lvgd.lv_grid._station.osm_id_node)\n",
    "\n",
    "    nodes = lvgd.buildings\n",
    "    nodes['feeder'] = 0\n",
    "    # init n_residential_at_this_feeder with number_households\n",
    "    # afterwards loads < 100 kW will be grouped per feeder and\n",
    "    # n_residential_at_this_feeder will be updated but in this\n",
    "    # way, loads >= 100 kW have value for n_residential_at_this_feeder\n",
    "    nodes['n_residential_at_this_feeder'] = nodes['number_households']\n",
    "\n",
    "    # due to buildings are not in graph, update em nearest nodes: loc[buildings.nn, 'feeder']\n",
    "    for building_nearest_node, feeder_id in nodes_w_feeder.items():\n",
    "        nodes.loc[nodes.nn == building_nearest_node, 'feeder'] = feeder_id\n",
    "\n",
    "    # get number residentials per feeder\n",
    "    nodes = nodes[nodes.capacity < get_config_osm('lv_threshold_capacity')]\n",
    "    nodes.loc[nodes['category'].isin(load_profile_categories['residentials_list']), 'n_residential_at_this_feeder'] = nodes[nodes['category'].isin(load_profile_categories['residentials_list'])].groupby('feeder')['number_households'].transform('sum')\n",
    "\n",
    "    lvgd.buildings = nodes\n",
    "\n",
    "    return nodes_w_feeder  # need to return to get feeder id for edges\n",
    "\n",
    "\n",
    "def get_feeder_cable_type_dict(lvgd, cable_lf, cos_phi_load, v_nom):\n",
    "    \"\"\"\n",
    "    Get cable type for each feeder based on sum(peak_load) connected to each feeder.\n",
    "    If cable_type doesn't cover load, set cable_type='NAYY 4x1x150' with intention\n",
    "    to ensure grid integrity at a later point.\n",
    "    return feeder_cable_type_dict: dict key: feederId, value: cable_type\n",
    "    e.g. feeder_cable_type_dict = {1: 'NAYY 4x1x150', 2: 'NAYY 4x1x150', 3: 'NAYY 4x1x150'}\n",
    "    \"\"\"\n",
    "    # TODO: only the nearest nodes of buildings are considered to get appropriate cable_type_stub\n",
    "    # but Graph.edges() are added also and not every node in Graph.edges() has a load/ is connected\n",
    "    # to a building, thus if to a node in Graph.nodes() no load/ building is connected, it could be\n",
    "    # checked along the feeder, which loads are really connected and by em total sum(capacity),\n",
    "    # select cable_type_stub for feeder and all nodes of Graph.nodes() where cable_type_stub isn't known.\n",
    "    feeder_ids = list(set(lvgd.buildings.feeder.tolist()))\n",
    "\n",
    "    feeder_cable_type_dict = {}\n",
    "    for feeder_id in feeder_ids:\n",
    "        # TODO: if I_max_load to high that no suitable cable stubs are good enough, consider to bypass \n",
    "        I_max_load = lvgd.buildings.loc[lvgd.buildings.feeder == feeder_id].capacity.sum() / (3 ** 0.5 * v_nom) / cos_phi_load\n",
    "\n",
    "        # determine suitable cable for this current\n",
    "        suitable_cables_stub = lvgd.lv_grid.network.static_data['LV_cables'][\n",
    "            (lvgd.lv_grid.network.static_data['LV_cables'][\n",
    "                'I_max_th'] * cable_lf) > I_max_load]\n",
    "        if len(suitable_cables_stub):\n",
    "            cable_type_stub = suitable_cables_stub.loc[suitable_cables_stub['I_max_th'].idxmin(), :]\n",
    "        else:  # TODO: what to do if no cable is suitable for I_max_load, e.g. many loads connected to feeder?\n",
    "            cable_type_stub = lvgd.lv_grid.network.static_data['LV_cables'].iloc[0]  # take strongest cable if no one suits\n",
    "\n",
    "        feeder_cable_type_dict[feeder_id] = cable_type_stub\n",
    "\n",
    "    return feeder_cable_type_dict\n",
    "\n",
    "\n",
    "def get_cable_type_by_load(lvgd, capacity, cable_lf, cos_phi_load, v_nom):\n",
    "    \"\"\" get cable type for given capacity as param \"\"\"\n",
    "    I_max_load = capacity / (3 ** 0.5 * v_nom) / cos_phi_load\n",
    "\n",
    "    # determine suitable cable for this current\n",
    "    suitable_cables_stub = lvgd.lv_grid.network.static_data['LV_cables'][\n",
    "        (lvgd.lv_grid.network.static_data['LV_cables'][\n",
    "            'I_max_th'] * cable_lf) > I_max_load]\n",
    "    if len(suitable_cables_stub):\n",
    "        cable_type_stub = suitable_cables_stub.loc[suitable_cables_stub['I_max_th'].idxmin(), :]\n",
    "    else:  # TODO: what to do if no cable is suitable for I_max_load, e.g. many loads connected to feeder?\n",
    "        cable_type_stub = lvgd.lv_grid.network.static_data['LV_cables'].iloc[0]  # take strongest cable if no one suits\n",
    "\n",
    "    return cable_type_stub\n",
    "\n",
    "\n",
    "def get_number_of_cables(capacity, cos_phi_load, v_nom):\n",
    "    \"\"\" get number of cables for given capacity as param \"\"\"\n",
    "    I_max_load = capacity / (3 ** 0.5 * v_nom) / cos_phi_load\n",
    "\n",
    "    max_possible_i_load = 245\n",
    "    n_cables = 1\n",
    "    while I_max_load > max_possible_i_load:\n",
    "        n_cables +=1\n",
    "        I_max_load /= n_cables\n",
    "    return n_cables"
   ]
  },
  {
   "cell_type": "code",
   "execution_count": 174,
   "id": "01f0afd6-e4ef-4813-8ba8-597b8ebce802",
   "metadata": {},
   "outputs": [],
   "source": [
    "# find lvgd (la_id: 4488)\n",
    "lvgd = nd._mv_grid_districts[0]._lv_load_areas[40]._lv_grid_districts[3]"
   ]
  },
  {
   "cell_type": "code",
   "execution_count": 175,
   "id": "52770ac1-34a4-4de5-8f72-66476e43d11e",
   "metadata": {
    "tags": []
   },
   "outputs": [],
   "source": [
    "cable_lf = cfg_ding0.get('assumptions',\n",
    "                         'load_factor_lv_cable_lc_normal')\n",
    "cos_phi_load = cfg_ding0.get('assumptions',\n",
    "                             'cos_phi_load')\n",
    "v_nom = cfg_ding0.get('assumptions', 'lv_nominal_voltage') / 1e3  # v_nom in kV\n",
    "\n",
    "# get diversity factor for non residential\n",
    "diversity_factor = get_config_osm('diversity_factor_not_residential')\n",
    "load_profile_categories = get_load_profile_categories()\n",
    "\n",
    "# separate loads w. capacity: loads < 100 kW connected to grid\n",
    "lv_loads_grid = lvgd.buildings.loc[\n",
    "    lvgd.buildings.capacity < get_config_osm('lv_threshold_capacity')]\n",
    "\n",
    "# full graph for routing 100 - 200 kW to station\n",
    "full_graph = lvgd.graph_district  # .to_undirected()\n",
    "\n",
    "# get graph for loads < 100 kW\n",
    "shortest_tree_district_graph = get_routed_graph(\n",
    "    full_graph,  # graph in district\n",
    "    lvgd.lv_grid._station.osm_id_node,  # osmid of node representating station\n",
    "    lv_loads_grid.nn.tolist())             # list of nodes connected to staion"
   ]
  },
  {
   "cell_type": "code",
   "execution_count": 176,
   "id": "fe210d61-90d3-452e-81ed-f672ff515c9d",
   "metadata": {},
   "outputs": [
    {
     "data": {
      "image/png": "[encoded data removed]",
      "text/plain": [
       "<Figure size 576x576 with 1 Axes>"
      ]
     },
     "metadata": {},
     "output_type": "display_data"
    },
    {
     "data": {
      "text/plain": [
       "(<Figure size 576x576 with 1 Axes>, <AxesSubplot:>)"
      ]
     },
     "execution_count": 176,
     "metadata": {},
     "output_type": "execute_result"
    }
   ],
   "source": [
    "# show full lvgd graph\n",
    "station_id = [lvgd.lv_grid._station.osm_id_node]\n",
    "nc = ['r' if n in station_id else 'w' for n in full_graph]\n",
    "ox.plot_graph(full_graph, node_color=nc)"
   ]
  },
  {
   "cell_type": "code",
   "execution_count": 177,
   "id": "e82fb14e-22f8-4929-80db-d0695de8d898",
   "metadata": {},
   "outputs": [
    {
     "data": {
      "image/png": "[encoded data removed]",
      "text/plain": [
       "<Figure size 576x576 with 1 Axes>"
      ]
     },
     "metadata": {},
     "output_type": "display_data"
    },
    {
     "data": {
      "text/plain": [
       "(<Figure size 576x576 with 1 Axes>, <AxesSubplot:>)"
      ]
     },
     "execution_count": 177,
     "metadata": {},
     "output_type": "execute_result"
    }
   ],
   "source": [
    "# show shortest path tree graph\n",
    "# find substations id in street graph\n",
    "station_id = [lvgd.lv_grid._station.osm_id_node]\n",
    "nc = ['r' if n in station_id else 'w' for n in shortest_tree_district_graph]\n",
    "ox.plot_graph(shortest_tree_district_graph, node_color=nc)"
   ]
  },
  {
   "cell_type": "code",
   "execution_count": 178,
   "id": "3e9340b7-287c-406a-b988-b258a70feee0",
   "metadata": {},
   "outputs": [],
   "source": [
    "import numpy as np\n",
    "\n",
    "def get_n_feeder_mandatory(capacity): \n",
    "    I_max_allowed = 245 ##TODO: get value via config from standard cable type\n",
    "    I_max_load_at_feeder = capacity / (3 ** 0.5 * v_nom) / cos_phi_load\n",
    "    return np.ceil(I_max_load_at_feeder / I_max_allowed)"
   ]
  },
  {
   "cell_type": "code",
   "execution_count": 179,
   "id": "33f7d27c-b0ac-4f5d-a77b-5ccab72f3775",
   "metadata": {},
   "outputs": [],
   "source": [
    "from ding0.grid.lv_grid.routing import identify_street_loads\n",
    "\n",
    "def allocate_street_load_nodes(lv_loads_grid, shortest_tree_district_graph, station_id):\n",
    "    \n",
    "    # in order to do a size constrainted tree partioning\n",
    "    # allocate capacity to street nodes (as integer)\n",
    "    street_loads = identify_street_loads(lv_loads_grid, shortest_tree_district_graph)\n",
    "    street_loads_map = street_loads.to_dict()['capacity']\n",
    "\n",
    "    for node in shortest_tree_district_graph.nodes:\n",
    "\n",
    "        if node in street_loads_map.keys():\n",
    "            shortest_tree_district_graph.nodes[node]['load'] = int(np.ceil(street_loads_map[node] * 1e3)) # as int * 1000\n",
    "        else:\n",
    "            shortest_tree_district_graph.nodes[node]['load'] = 0\n",
    "\n",
    "    # make sure substation's capacity is always zero\n",
    "    shortest_tree_district_graph.nodes[station_id]['load'] = 0 \n",
    "    \n",
    "    return shortest_tree_district_graph"
   ]
  },
  {
   "cell_type": "code",
   "execution_count": 180,
   "id": "f5a7a45b-7171-4405-afab-141013a8541e",
   "metadata": {},
   "outputs": [
    {
     "name": "stdout",
     "output_type": "stream",
     "text": [
      "CPU times: user 180 ms, sys: 0 ns, total: 180 ms\n",
      "Wall time: 205 ms\n"
     ]
    }
   ],
   "source": [
    "%%time\n",
    "\n",
    "import nxmetis\n",
    "from ding0.grid.mv_grid.tools import get_shortest_path_shp_multi_target\n",
    "\n",
    "feeder_graph_list = []\n",
    "\n",
    "# G. Karypis, V. Kumar: A fast and high quality multilevel scheme for partitioning irregular graphs\n",
    "# https://www.cs.utexas.edu/~pingali/CS395T/2009fa/papers/metis.pdf\n",
    "\n",
    "# pre-process graph\n",
    "# allocate loads to street nodes\n",
    "shortest_tree_district_graph = allocate_street_load_nodes(lv_loads_grid, shortest_tree_district_graph, station_id[0])\n",
    "\n",
    "# split the graph into subtrees based on station's incident edges\n",
    "# if number of edges larger 1 \n",
    "# prepare shortest path tree graph\n",
    "g = shortest_tree_district_graph.copy()\n",
    "station_attr = g.nodes[station_id[0]]\n",
    "\n",
    "# find subtrees in shortest path tree graph using substation's inicident edges\n",
    "#TODO: Check if len(G) is bigger 1 / G.has_edges: lvgd graph with one node -> remove station leads to empty graph\n",
    "g.remove_node(station_id[0])\n",
    "\n",
    "nodelists = list(nx.weakly_connected_components(g))\n",
    "\n",
    "feederID = 0\n",
    "\n",
    "# create subtrees from tree graph based on number of with station incident edges\n",
    "for nodelist in nodelists:\n",
    "    \n",
    "    subtree_graph = shortest_tree_district_graph.subgraph(list(nodelist) + station_id).to_undirected()\n",
    "    \n",
    "    cum_subtree_load = sum([subtree_graph.nodes[node]['load'] for node in subtree_graph.nodes]) / 1e3\n",
    "    \n",
    "    n_feeder = get_n_feeder_mandatory(cum_subtree_load)\n",
    "        \n",
    "    if n_feeder > 1:\n",
    "\n",
    "        G = nx.Graph(subtree_graph.copy())\n",
    "\n",
    "        # transform edge length to int\n",
    "        for edge in G.edges:\n",
    "            G.edges[edge]['length'] = int(np.ceil(G.edges[edge]['length']))\n",
    "\n",
    "        (cut, parts) = nxmetis.partition(G, int(n_feeder), \n",
    "                                         node_weight='load', edge_weight='length', \n",
    "                                         options=nxmetis.MetisOptions(contig=True)) \n",
    "        \n",
    "        for cluster in parts:\n",
    "            \n",
    "            feederID += 1\n",
    "            \n",
    "            # get feeder graphs separately\n",
    "            feeder_graph = subtree_graph.subgraph(cluster).copy()\n",
    "            \n",
    "            for node in cluster:\n",
    "                feeder_graph.nodes[node]['feederID'] = feederID\n",
    "                \n",
    "            for edge in feeder_graph.edges:\n",
    "                feeder_graph.edges[edge]['feederID'] = feederID\n",
    "\n",
    "            if not station_id[0] in feeder_graph.nodes:\n",
    "\n",
    "                line_shp, line_length, line_path = get_shortest_path_shp_multi_target(subtree_graph, station_id[0], cluster)\n",
    "                feeder_graph.add_edge(line_path[0], station_id[0], 0, geometry=line_shp, length=line_length, feederID=feederID)\n",
    "                feeder_graph.add_node(station_id[0], **station_attr)\n",
    "                \n",
    "            feeder_graph_list.append(feeder_graph)\n",
    "                \n",
    "    else:\n",
    "        \n",
    "        feederID += 1\n",
    "        \n",
    "        feeder_graph = subtree_graph.copy()\n",
    "            \n",
    "        for node in feeder_graph.nodes:\n",
    "            feeder_graph.nodes[node]['feederID'] = feederID\n",
    "\n",
    "        for edge in feeder_graph.edges:\n",
    "            feeder_graph.edges[edge]['feederID'] = feederID\n",
    "            \n",
    "        feeder_graph_list.append(feeder_graph)\n"
   ]
  },
  {
   "cell_type": "code",
   "execution_count": 181,
   "id": "9555ce64-771b-4793-afed-bfe699c350d2",
   "metadata": {},
   "outputs": [
    {
     "data": {
      "image/png": "[encoded data removed]",
      "text/plain": [
       "<Figure size 576x576 with 1 Axes>"
      ]
     },
     "metadata": {},
     "output_type": "display_data"
    },
    {
     "data": {
      "text/plain": [
       "(<Figure size 576x576 with 1 Axes>, <AxesSubplot:>)"
      ]
     },
     "execution_count": 181,
     "metadata": {},
     "output_type": "execute_result"
    }
   ],
   "source": [
    "G = nx.compose_all(feeder_graph_list)\n",
    "#G.nodes[station_id[0]]['feederID'] = 0\n",
    "\n",
    "ec = ox.plot.get_edge_colors_by_attr(G, attr='feederID', cmap=\"Set3\")\n",
    "nc = ox.plot.get_node_colors_by_attr(G, attr='feederID', cmap=\"Set3\")\n",
    "ox.plot_graph(G, node_color=nc, edge_color=ec, node_size=100)"
   ]
  },
  {
   "cell_type": "code",
   "execution_count": null,
   "id": "57e55e26-8957-49eb-bb97-23809bc74663",
   "metadata": {},
   "outputs": [],
   "source": []
  },
  {
   "cell_type": "code",
   "execution_count": null,
   "id": "980d2142-7eb8-4435-a1cb-ddda37bffc80",
   "metadata": {},
   "outputs": [],
   "source": []
  },
  {
   "cell_type": "code",
   "execution_count": null,
   "id": "dd5514e6-877d-483d-9f17-ef98ea449928",
   "metadata": {},
   "outputs": [],
   "source": []
  },
  {
   "cell_type": "code",
   "execution_count": null,
   "id": "99d94d3c-c47f-418d-9f82-c7a6082705a6",
   "metadata": {},
   "outputs": [],
   "source": []
  },
  {
   "cell_type": "code",
   "execution_count": null,
   "id": "8d018384-4be3-412a-8e6e-13cd49e3c745",
   "metadata": {},
   "outputs": [],
   "source": []
  },
  {
   "cell_type": "code",
   "execution_count": null,
   "id": "d1e237c4-9f9e-4194-9c58-1b48cc57cd4c",
   "metadata": {},
   "outputs": [],
   "source": []
  },
  {
   "cell_type": "code",
   "execution_count": null,
   "id": "9207f6af-9482-4bd8-b270-6f879a456d26",
   "metadata": {},
   "outputs": [],
   "source": []
  },
  {
   "cell_type": "code",
   "execution_count": null,
   "id": "5661d776-ff01-43e0-b837-9e661b3900e5",
   "metadata": {},
   "outputs": [],
   "source": []
  },
  {
   "cell_type": "code",
   "execution_count": null,
   "id": "65c116ab-c9f9-4ff3-b0e7-3eb10a139395",
   "metadata": {},
   "outputs": [],
   "source": []
  },
  {
   "cell_type": "code",
   "execution_count": 21,
   "id": "580c0da1-1557-414e-bcdc-56c7fbb13c90",
   "metadata": {},
   "outputs": [],
   "source": [
    "# check if lv building loads surpassing \n",
    "# current load capacity of standard cable type\n",
    "\n",
    "n_feeder = get_n_feeder_mandatory(lv_loads_grid.capacity.sum())\n",
    "\n",
    "    "
   ]
  },
  {
   "cell_type": "code",
   "execution_count": 24,
   "id": "7b0cec25-5e01-4736-b1cf-12de49fbefa2",
   "metadata": {},
   "outputs": [
    {
     "data": {
      "text/plain": [
       "networkx.classes.multidigraph.MultiDiGraph"
      ]
     },
     "execution_count": 24,
     "metadata": {},
     "output_type": "execute_result"
    }
   ],
   "source": [
    "for ilist, nodelist in enumerate(nodelists, start=1):\n",
    "    for n in nodelist:\n",
    "        shortest_tree_district_graph.nodes[n]['feederID'] = ilist\n",
    "        lv_loads_grid.loc[lv_loads_grid.nn == n, 'feederID'] = ilist\n",
    "    \n",
    "    subtree_graph = shortest_tree_district_graph.subgraph(list(nodelist) + station_id).to_undirected()\n",
    "    ox.plot_graph(subtree_graph)\n",
    "shortest_tree_district_graph.nodes[station_id[0]]['feederID'] = 0"
   ]
  },
  {
   "cell_type": "code",
   "execution_count": 35,
   "id": "3128b2de-36f8-459a-88f1-9f971837de67",
   "metadata": {},
   "outputs": [
    {
     "data": {
      "text/plain": [
       "(686.7414310834438, 686819)"
      ]
     },
     "execution_count": 35,
     "metadata": {},
     "output_type": "execute_result"
    }
   ],
   "source": [
    "street_loads['capacity'].sum(), sum([shortest_tree_district_graph.nodes[node]['load'] for node in shortest_tree_district_graph])"
   ]
  },
  {
   "cell_type": "code",
   "execution_count": 38,
   "id": "47363307-7048-4fc1-8189-89e7498ec990",
   "metadata": {},
   "outputs": [],
   "source": [
    "import numpy as np\n",
    "\n",
    "def get_n_feeder_mandatory(capacity_at_feeder): \n",
    "    I_max_allowed = 245\n",
    "    I_max_load_at_feeder = capacity_at_feeder / (3 ** 0.5 * v_nom) / cos_phi_load\n",
    "    return np.ceil(I_max_load_at_feeder / I_max_allowed)"
   ]
  },
  {
   "cell_type": "code",
   "execution_count": 39,
   "id": "2813b5f8-f30c-4a27-9205-38f26f6725c0",
   "metadata": {},
   "outputs": [
    {
     "name": "stdout",
     "output_type": "stream",
     "text": [
      "capacity at feeder 352.13472840917484 requires 3.0 feeders\n",
      "capacity at feeder 178.16024486385697 requires 2.0 feeders\n",
      "capacity at feeder 156.44645781041183 requires 1.0 feeders\n"
     ]
    }
   ],
   "source": [
    "feeder_ids_to_check = []\n",
    "for feederid in list(set(lv_loads_grid.feederID.tolist())):\n",
    "    capacity_at_feeder = lv_loads_grid.loc[lv_loads_grid.feederID == feederid].capacity.sum()\n",
    "    n_feeder_mandatory = get_n_feeder_mandatory(capacity_at_feeder)\n",
    "    print(f\"capacity at feeder {capacity_at_feeder} requires {n_feeder_mandatory} feeders\")\n",
    "    if n_feeder_mandatory > 1:\n",
    "        feeder_ids_to_check.append([feederid, capacity_at_feeder, n_feeder_mandatory])"
   ]
  },
  {
   "cell_type": "code",
   "execution_count": 40,
   "id": "cfd1e928-2350-442e-9cf4-3e5678441910",
   "metadata": {},
   "outputs": [
    {
     "data": {
      "text/plain": [
       "[[1, 352.13472840917484, 3.0], [2, 178.16024486385697, 2.0]]"
      ]
     },
     "execution_count": 40,
     "metadata": {},
     "output_type": "execute_result"
    }
   ],
   "source": [
    "feeder_ids_to_check"
   ]
  },
  {
   "cell_type": "code",
   "execution_count": 55,
   "id": "2ceecabc-0a86-4849-be27-8256a814c459",
   "metadata": {},
   "outputs": [],
   "source": [
    "# get subtree of shortest path tree\n",
    "subtree_idx = 0\n",
    "feeder_to_check = feeder_ids_to_check[subtree_idx][0]\n",
    "total_subtree_load = feeder_ids_to_check[subtree_idx][1]\n",
    "n_feeder_mandatory = feeder_ids_to_check[subtree_idx][2]\n",
    "subtree_nodeslist_to_check = nodelists[subtree_idx]"
   ]
  },
  {
   "cell_type": "code",
   "execution_count": 56,
   "id": "966f02e8-7f62-498a-90a5-be8063b89476",
   "metadata": {},
   "outputs": [],
   "source": [
    "g_sub_origin = shortest_tree_district_graph.subgraph(list(subtree_nodeslist_to_check) + station_id).to_undirected()"
   ]
  },
  {
   "cell_type": "code",
   "execution_count": 57,
   "id": "480e9201-6f6c-4099-a356-c03d80095065",
   "metadata": {},
   "outputs": [
    {
     "data": {
      "image/png": "[encoded data removed]",
      "text/plain": [
       "<Figure size 576x576 with 1 Axes>"
      ]
     },
     "metadata": {},
     "output_type": "display_data"
    },
    {
     "data": {
      "text/plain": [
       "(<Figure size 576x576 with 1 Axes>, <AxesSubplot:>)"
      ]
     },
     "execution_count": 57,
     "metadata": {},
     "output_type": "execute_result"
    }
   ],
   "source": [
    "station_id = [lvgd.lv_grid._station.osm_id_node]\n",
    "nc = ['r' if n in station_id else 'w' for n in g_sub_origin]\n",
    "ox.plot_graph(g_sub_origin, node_color=nc)"
   ]
  },
  {
   "cell_type": "code",
   "execution_count": 58,
   "id": "23f2a5c6-c589-4d55-b93a-4debd864acf6",
   "metadata": {},
   "outputs": [
    {
     "data": {
      "text/plain": [
       "networkx.classes.multigraph.MultiGraph"
      ]
     },
     "execution_count": 58,
     "metadata": {},
     "output_type": "execute_result"
    }
   ],
   "source": [
    "type(g_sub_origin)"
   ]
  },
  {
   "cell_type": "code",
   "execution_count": 59,
   "id": "4f295db8-1068-4ea2-ae65-cdf6c13d746d",
   "metadata": {},
   "outputs": [
    {
     "name": "stdout",
     "output_type": "stream",
     "text": [
      "CPU times: user 6.32 ms, sys: 221 µs, total: 6.54 ms\n",
      "Wall time: 6.07 ms\n"
     ]
    }
   ],
   "source": [
    "%%time\n",
    "import nxmetis\n",
    "# G. Karypis, V. Kumar: A fast and high quality multilevel scheme for partitioning irregular graphs\n",
    "# https://www.cs.utexas.edu/~pingali/CS395T/2009fa/papers/metis.pdf\n",
    "\n",
    "G = nx.Graph(g_sub_origin.copy())\n",
    "\n",
    "# transform edge length to int\n",
    "for edge in G.edges:\n",
    "    G.edges[edge]['length'] = int(np.ceil(G.edges[edge]['length']))\n",
    "\n",
    "(cut, parts) = nxmetis.partition(G, int(n_feeder_mandatory), \n",
    "                                 node_weight='load', edge_weight='length', \n",
    "                                 options=nxmetis.MetisOptions(contig=True)) "
   ]
  },
  {
   "cell_type": "code",
   "execution_count": 60,
   "id": "2521b562-7deb-4707-a0eb-d71a0ecf6ea4",
   "metadata": {},
   "outputs": [
    {
     "name": "stdout",
     "output_type": "stream",
     "text": [
      "cluster_1_size: 115398\n",
      "cluster_2_size: 73049\n",
      "cluster_3_size: 163731\n"
     ]
    },
    {
     "data": {
      "image/png": "[encoded data removed]",
      "text/plain": [
       "<Figure size 576x576 with 1 Axes>"
      ]
     },
     "metadata": {},
     "output_type": "display_data"
    }
   ],
   "source": [
    "for label, cluster in enumerate(parts, start=1):\n",
    "    for node in cluster:\n",
    "        g_sub_origin.nodes[node]['label'] = label\n",
    "    print(f'cluster_{label}_size:', sum([g_sub_origin.nodes[node]['load'] for node in cluster]))\n",
    "\n",
    "labels = nx.get_node_attributes(g_sub_origin, 'label')\n",
    "\n",
    "# plot metis\n",
    "nc = ox.plot.get_node_colors_by_attr(g_sub_origin, attr='label', cmap=\"jet\")\n",
    "fig, ax = ox.plot_graph(g_sub_origin, node_color=nc, node_size=50, edge_color='w', edge_linewidth=0.5, show=False, close=False)"
   ]
  },
  {
   "cell_type": "code",
   "execution_count": 61,
   "id": "e7da4435-27a0-4058-8005-1c929a4059b9",
   "metadata": {},
   "outputs": [
    {
     "data": {
      "image/png": "[encoded data removed]",
      "text/plain": [
       "<Figure size 576x576 with 1 Axes>"
      ]
     },
     "metadata": {},
     "output_type": "display_data"
    },
    {
     "data": {
      "image/png": "[encoded data removed]",
      "text/plain": [
       "<Figure size 576x576 with 1 Axes>"
      ]
     },
     "metadata": {},
     "output_type": "display_data"
    },
    {
     "data": {
      "image/png": "[encoded data removed]",
      "text/plain": [
       "<Figure size 576x576 with 1 Axes>"
      ]
     },
     "metadata": {},
     "output_type": "display_data"
    }
   ],
   "source": [
    "from ding0.grid.mv_grid.tools import get_shortest_path_shp_multi_target\n",
    "# get feeder graphs separately\n",
    "for cluster in parts:\n",
    "    \n",
    "    g_cluster = g_sub_origin.subgraph(cluster).copy()\n",
    "    \n",
    "    if not station_id[0] in g_cluster.nodes:\n",
    "        \n",
    "        line_shp, line_length, line_path = get_shortest_path_shp_multi_target(g_sub_origin, station_id[0], cluster)\n",
    "        g_cluster.add_edge(line_path[0], station_id[0], 0, geometry=line_shp, length=line_length)\n",
    "        g_cluster.add_node(station_id[0], **station_attr)\n",
    "        \n",
    "    station_id = [lvgd.lv_grid._station.osm_id_node]\n",
    "    nc = ['r' if n in station_id else 'w' for n in g_cluster]\n",
    "    ox.plot_graph(g_cluster, node_color=nc)"
   ]
  },
  {
   "cell_type": "code",
   "execution_count": null,
   "id": "9fd956fd-707f-4914-be89-4f6830f64678",
   "metadata": {},
   "outputs": [],
   "source": []
  },
  {
   "cell_type": "code",
   "execution_count": null,
   "id": "0d5f4cba-6468-4abb-a7f6-cf4dea1ef30c",
   "metadata": {},
   "outputs": [],
   "source": []
  },
  {
   "cell_type": "code",
   "execution_count": 24,
   "id": "aee138d8-ab96-4e68-9a7f-5630cd2cfcdd",
   "metadata": {},
   "outputs": [
    {
     "name": "stdout",
     "output_type": "stream",
     "text": [
      "cluster_1_size: 133\n",
      "cluster_2_size: 131\n",
      "cluster_3_size: 124\n",
      "CPU times: user 10.6 ms, sys: 7.91 ms, total: 18.5 ms\n",
      "Wall time: 25.7 ms\n"
     ]
    }
   ],
   "source": [
    "%%time\n",
    "import metis\n",
    "# G. Karypis, V. Kumar: A fast and high quality multilevel scheme for partitioning irregular graphs\n",
    "# https://www.cs.utexas.edu/~pingali/CS395T/2009fa/papers/metis.pdf\n",
    "\n",
    "G = g_sub_origin.copy()\n",
    "\n",
    "G.graph['node_weight_attr'] = 'load'\n",
    "G.graph['edge_weight_attr'] = 'length'\n",
    "\n",
    "(cut, parts) = metis.part_graph(G, int(n_feeder_mandatory), contig=True)\n",
    "\n",
    "for node, label in zip(list(G.nodes), parts):\n",
    "    G.nodes[node]['label'] = label\n",
    "    \n",
    "labels = nx.get_node_attributes(G, 'label')\n",
    "\n",
    "clusters = []\n",
    "for label in set(parts):\n",
    "    cluster = [node for node in G.nodes if G.nodes[node]['label'] == label]\n",
    "    clusters.append(cluster)\n",
    "    print(f'cluster_{label+1}_size:', sum([G.nodes[node]['load'] for node in cluster]))"
   ]
  },
  {
   "cell_type": "code",
   "execution_count": 25,
   "id": "27f4371a-89c0-4548-a7bb-da3c04af19b3",
   "metadata": {},
   "outputs": [
    {
     "data": {
      "image/png": "[encoded data removed]",
      "text/plain": [
       "<Figure size 576x576 with 1 Axes>"
      ]
     },
     "metadata": {},
     "output_type": "display_data"
    }
   ],
   "source": [
    "# plot k-way metis\n",
    "nc = ox.plot.get_node_colors_by_attr(G, attr='label', cmap=\"Set3\")\n",
    "fig, ax = ox.plot_graph(G, node_color=nc, node_size=50, edge_color='w', edge_linewidth=0.5, show=False, close=False)"
   ]
  },
  {
   "cell_type": "code",
   "execution_count": 24,
   "id": "eb40c880-5322-44ad-95e8-61225fc7fb5d",
   "metadata": {},
   "outputs": [
    {
     "ename": "ModuleNotFoundError",
     "evalue": "No module named 'metis'",
     "output_type": "error",
     "traceback": [
      "\u001b[0;31m---------------------------------------------------------------------------\u001b[0m",
      "\u001b[0;31mModuleNotFoundError\u001b[0m                       Traceback (most recent call last)",
      "\u001b[0;32m<timed exec>\u001b[0m in \u001b[0;36m<module>\u001b[0;34m\u001b[0m\n",
      "\u001b[0;31mModuleNotFoundError\u001b[0m: No module named 'metis'"
     ]
    }
   ],
   "source": [
    "%%time\n",
    "import metis\n",
    "# G. Karypis, V. Kumar: A fast and high quality multilevel scheme for partitioning irregular graphs\n",
    "# https://www.cs.utexas.edu/~pingali/CS395T/2009fa/papers/metis.pdf\n",
    "\n",
    "G = g_sub_origin.copy()\n",
    "\n",
    "G.graph['node_weight_attr'] = 'load'\n",
    "G.graph['edge_weight_attr'] = 'length'\n",
    "\n",
    "(cut, parts) = metis.part_graph(G, int(n_feeder_mandatory), contig=True)\n",
    "\n",
    "for node, label in zip(list(G.nodes), parts):\n",
    "    G.nodes[node]['label'] = label\n",
    "    \n",
    "labels = nx.get_node_attributes(G, 'label')\n",
    "\n",
    "clusters = []\n",
    "for label in set(parts):\n",
    "    cluster = [node for node in G.nodes if G.nodes[node]['label'] == label]\n",
    "    clusters.append(cluster)\n",
    "    print(f'cluster_{label+1}_size:', sum([G.nodes[node]['load'] for node in cluster]))"
   ]
  },
  {
   "cell_type": "code",
   "execution_count": 22,
   "id": "0dc06e8f-011b-4b80-a281-25cbaf38c4da",
   "metadata": {},
   "outputs": [
    {
     "name": "stdout",
     "output_type": "stream",
     "text": [
      "cluster_1_size: 138\n",
      "cluster_2_size: 117\n",
      "cluster_3_size: 133\n",
      "CPU times: user 2.94 s, sys: 7.77 ms, total: 2.95 s\n",
      "Wall time: 2.95 s\n"
     ]
    }
   ],
   "source": [
    "%%time\n",
    "# J. A. Lukes: Efficient Algorithm for the Partitioning of Trees\n",
    "# https://ieeexplore.ieee.org/document/5391310\n",
    "from networkx.algorithms import community\n",
    "\n",
    "total_subtree_load = int(sum([g_sub_origin.nodes[node]['load'] for node in g_sub_origin]))\n",
    "increment_partition_load = int(total_subtree_load / 2)\n",
    "step_size =  int(increment_partition_load / 4)\n",
    "\n",
    "for max_feeder_load in range(increment_partition_load, total_subtree_load, step_size):\n",
    "    \n",
    "    clusters = community.lukes_partitioning(g_sub_origin, max_size=max_feeder_load, node_weight='load', edge_weight='length')\n",
    "\n",
    "    if len(clusters) == n_feeder_mandatory:        \n",
    "        break\n",
    "\n",
    "# plot lukes partition result\n",
    "for idx, cluster in enumerate(clusters):\n",
    "    for node in cluster:\n",
    "        g_sub_origin.nodes[node]['label'] = idx\n",
    "    print(f'cluster_{idx+1}_size:', sum([g_sub_origin.nodes[node]['load'] for node in cluster]))\n",
    "    \n",
    "labels = nx.get_node_attributes(g_sub_origin, 'label')"
   ]
  },
  {
   "cell_type": "code",
   "execution_count": null,
   "id": "ab9f5937-4cd3-4f38-a4ab-4a4760549844",
   "metadata": {},
   "outputs": [],
   "source": []
  },
  {
   "cell_type": "code",
   "execution_count": null,
   "id": "5f964cd4-605b-45b2-b6ca-452ea86b2180",
   "metadata": {},
   "outputs": [],
   "source": []
  },
  {
   "cell_type": "code",
   "execution_count": null,
   "id": "006da698-cfb1-42db-9492-1a0bfdeaadd3",
   "metadata": {},
   "outputs": [],
   "source": []
  },
  {
   "cell_type": "code",
   "execution_count": null,
   "id": "cc0c6513-1beb-4643-82f6-7b7bf8a1886a",
   "metadata": {},
   "outputs": [],
   "source": []
  },
  {
   "cell_type": "code",
   "execution_count": 27,
   "id": "2f801e1d-9725-4425-bb08-da4825da3bd4",
   "metadata": {},
   "outputs": [],
   "source": [
    "### OLD ###"
   ]
  },
  {
   "cell_type": "code",
   "execution_count": 28,
   "id": "e5d4cb5a-950c-4457-b0c9-f392625f98f0",
   "metadata": {},
   "outputs": [
    {
     "ename": "NameError",
     "evalue": "name 'dfs_tree' is not defined",
     "output_type": "error",
     "traceback": [
      "\u001b[0;31m---------------------------------------------------------------------------\u001b[0m",
      "\u001b[0;31mNameError\u001b[0m                                 Traceback (most recent call last)",
      "\u001b[0;32m/tmp/ipykernel_28915/3546359097.py\u001b[0m in \u001b[0;36m<module>\u001b[0;34m\u001b[0m\n\u001b[0;32m----> 1\u001b[0;31m \u001b[0;32mfor\u001b[0m \u001b[0mn\u001b[0m \u001b[0;32min\u001b[0m \u001b[0mlist\u001b[0m\u001b[0;34m(\u001b[0m\u001b[0mdfs_tree\u001b[0m\u001b[0;34m.\u001b[0m\u001b[0mnodes\u001b[0m\u001b[0;34m)\u001b[0m\u001b[0;34m:\u001b[0m\u001b[0;34m\u001b[0m\u001b[0;34m\u001b[0m\u001b[0m\n\u001b[0m\u001b[1;32m      2\u001b[0m     \u001b[0mdfs_tree\u001b[0m\u001b[0;34m.\u001b[0m\u001b[0mnodes\u001b[0m\u001b[0;34m[\u001b[0m\u001b[0mn\u001b[0m\u001b[0;34m]\u001b[0m\u001b[0;34m[\u001b[0m\u001b[0;34m'capacity'\u001b[0m\u001b[0;34m]\u001b[0m \u001b[0;34m=\u001b[0m \u001b[0mlv_loads_grid\u001b[0m\u001b[0;34m.\u001b[0m\u001b[0mloc\u001b[0m\u001b[0;34m[\u001b[0m\u001b[0mlv_loads_grid\u001b[0m\u001b[0;34m.\u001b[0m\u001b[0mnn\u001b[0m \u001b[0;34m==\u001b[0m \u001b[0mn\u001b[0m\u001b[0;34m]\u001b[0m\u001b[0;34m.\u001b[0m\u001b[0mcapacity\u001b[0m\u001b[0;34m.\u001b[0m\u001b[0msum\u001b[0m\u001b[0;34m(\u001b[0m\u001b[0;34m)\u001b[0m\u001b[0;34m\u001b[0m\u001b[0;34m\u001b[0m\u001b[0m\n\u001b[1;32m      3\u001b[0m \u001b[0;34m\u001b[0m\u001b[0m\n\u001b[1;32m      4\u001b[0m \u001b[0;32mdef\u001b[0m \u001b[0mget_sub_dfs\u001b[0m\u001b[0;34m(\u001b[0m\u001b[0mdfs_tree\u001b[0m\u001b[0;34m,\u001b[0m \u001b[0msubtree_cluster_list\u001b[0m\u001b[0;34m=\u001b[0m\u001b[0;34m[\u001b[0m\u001b[0;34m]\u001b[0m\u001b[0;34m,\u001b[0m \u001b[0mn_iter\u001b[0m\u001b[0;34m=\u001b[0m\u001b[0;36m0\u001b[0m\u001b[0;34m,\u001b[0m \u001b[0mmax_n_iter\u001b[0m\u001b[0;34m=\u001b[0m\u001b[0;36m4\u001b[0m\u001b[0;34m)\u001b[0m\u001b[0;34m:\u001b[0m\u001b[0;34m\u001b[0m\u001b[0;34m\u001b[0m\u001b[0m\n\u001b[1;32m      5\u001b[0m \u001b[0;34m\u001b[0m\u001b[0m\n",
      "\u001b[0;31mNameError\u001b[0m: name 'dfs_tree' is not defined"
     ]
    }
   ],
   "source": [
    "for n in list(dfs_tree.nodes):\n",
    "    dfs_tree.nodes[n]['capacity'] = lv_loads_grid.loc[lv_loads_grid.nn == n].capacity.sum()\n",
    "    \n",
    "def get_sub_dfs(dfs_tree, subtree_cluster_list=[], n_iter=0, max_n_iter=4):\n",
    "\n",
    "    for n in list(dfs_tree.nodes):\n",
    "        print(f\"iter {n_iter}\")\n",
    "\n",
    "        if n_iter >= max_n_iter:\n",
    "            break\n",
    "        else:\n",
    "            n_iter += 1\n",
    "\n",
    "        summ = lv_loads_grid.loc[lv_loads_grid.nn.isin(list(dfs_tree.nodes))].capacity.sum()\n",
    "        print(summ)\n",
    "\n",
    "        if 130 < summ < 150:\n",
    "            print(f\"got a dfs with 130 < summ < 150. root node is {n}\")\n",
    "            subtree_cluster_list.append(dfs_tree)\n",
    "            \n",
    "            ox.plot_graph(g_sub_origin)  # 1\n",
    "            \n",
    "            g_sub_origin.remove_nodes_from(dfs_tree.nodes)\n",
    "            \n",
    "            # 1 == 2 + 3\n",
    "            ox.plot_graph(g_sub_origin)  # 2\n",
    "            ox.plot_graph(g_sub_origin.subgraph(dfs_tree.nodes))  # 3\n",
    "            \n",
    "            remaining_capacity = lv_loads_grid.loc[lv_loads_grid.nn.isin(list(g_sub_origin.nodes))].capacity.sum()\n",
    "            print(\"of origin graph: remaining_capacity \" + str(remaining_capacity))\n",
    "            \n",
    "            if remaining_capacity > 150:\n",
    "                dfs_tree = nx.dfs_tree(g_sub_origin, station_id[0])  # restart at station\n",
    "                get_sub_dfs(dfs_tree, subtree_cluster_list, n_iter, max_n_iter)\n",
    "            else:\n",
    "                subtree_cluster_list.append(g_sub_origin)\n",
    "                return subtree_cluster_list\n",
    "\n",
    "        else:\n",
    "            print(f\"2 hi load, checked subtree for next node {n}\")\n",
    "            \n",
    "            \n",
    "            # need to check if n has degree > 1\n",
    "            # buikd dfs_tree for each next node\n",
    "            \n",
    "            dfs_tree = nx.dfs_tree(dfs_tree, n)\n",
    "\n",
    "            ox.plot_graph(g_sub_origin.subgraph(dfs_tree.nodes))\n",
    "\n",
    "            \n",
    "subtree_cluster_list = get_sub_dfs(dfs_tree)"
   ]
  },
  {
   "cell_type": "code",
   "execution_count": null,
   "id": "2beb0faf-d433-40d0-8c42-5d2b4b40ba37",
   "metadata": {},
   "outputs": [],
   "source": []
  },
  {
   "cell_type": "code",
   "execution_count": null,
   "id": "862e7d05-e77a-4478-9e94-99896388147d",
   "metadata": {},
   "outputs": [],
   "source": [
    "subtree_cluster_list[0].graph['crs'] = 1234\n",
    "ox.plot_graph(nx.MultiDiGraph(subtree_cluster_list[0]))"
   ]
  },
  {
   "cell_type": "code",
   "execution_count": null,
   "id": "917fbdd5-91d4-4093-ac9a-88adfc925b2a",
   "metadata": {},
   "outputs": [],
   "source": []
  },
  {
   "cell_type": "code",
   "execution_count": null,
   "id": "ae6285ff-603f-4fa2-9f3e-02bf3b503da1",
   "metadata": {},
   "outputs": [],
   "source": []
  },
  {
   "cell_type": "code",
   "execution_count": null,
   "id": "c248e4b4-77b4-4666-8561-ca927e75dcd9",
   "metadata": {},
   "outputs": [],
   "source": []
  },
  {
   "cell_type": "code",
   "execution_count": null,
   "id": "53f495bd-306a-4195-99ec-b43a2c1b07f8",
   "metadata": {},
   "outputs": [],
   "source": []
  },
  {
   "cell_type": "code",
   "execution_count": null,
   "id": "0ede34f3-6a03-4d55-b1fb-f7a07bf51089",
   "metadata": {},
   "outputs": [],
   "source": []
  },
  {
   "cell_type": "code",
   "execution_count": null,
   "id": "9e28b16d-b6e6-40bf-871b-c20b9f8691ae",
   "metadata": {},
   "outputs": [],
   "source": []
  },
  {
   "cell_type": "code",
   "execution_count": null,
   "id": "fc95ae3e-9de3-4a6c-86d6-e2a65614f080",
   "metadata": {},
   "outputs": [],
   "source": []
  },
  {
   "cell_type": "code",
   "execution_count": null,
   "id": "b1a167e8-f2ef-4264-9d98-634b6967f8e9",
   "metadata": {},
   "outputs": [],
   "source": [
    "graph = graph_feeder_2_three.to_undirected()\n",
    "root = station_id[0]\n",
    "\n",
    "\n",
    "while True:\n",
    "    print(f\"get dfs tree for root {root}\")\n",
    "    print(f\"len graph = {len(graph)}\")\n",
    "    dfs_tree = nx.dfs_tree(graph, source=root)\n",
    "    summ = lv_loads_grid.loc[lv_loads_grid.nn.isin(list(dfs_tree.nodes))].capacity.sum()\n",
    "    if summ < 150:\n",
    "        break\n",
    "    else:\n",
    "        print(summ)\n",
    "        root = list(dfs_tree.nodes)[1]\n",
    "        graph = dfs_tree"
   ]
  },
  {
   "cell_type": "code",
   "execution_count": null,
   "id": "f3b8a15b-a386-4305-8e90-a877c2153806",
   "metadata": {},
   "outputs": [],
   "source": [
    "for n in list(dfs_tree.nodes):\n",
    "    dfs_tree_temp = nx.dfs_tree(graph_feeder_2_three.to_undirected(), source=n)\n",
    "    break"
   ]
  },
  {
   "cell_type": "code",
   "execution_count": null,
   "id": "fcef0fa6-2327-49dc-971d-bd73239841ee",
   "metadata": {},
   "outputs": [],
   "source": [
    "lv_loads_grid.loc[lv_loads_grid.nn.isin(list(dfs_tree_temp.nodes))].capacity.sum()"
   ]
  },
  {
   "cell_type": "code",
   "execution_count": null,
   "id": "70deef1e-1057-426e-8418-b2b910646f7b",
   "metadata": {},
   "outputs": [],
   "source": []
  },
  {
   "cell_type": "code",
   "execution_count": null,
   "id": "df56fd75-87de-492c-9f52-b71b339bca6d",
   "metadata": {},
   "outputs": [],
   "source": []
  },
  {
   "cell_type": "code",
   "execution_count": null,
   "id": "0950f68b-a324-44c7-bc44-f8de703912fd",
   "metadata": {},
   "outputs": [],
   "source": [
    "from shapely.geometry import LineString"
   ]
  },
  {
   "cell_type": "code",
   "execution_count": null,
   "id": "7b4c2bc6-f01e-4f14-8145-7c7311884c31",
   "metadata": {},
   "outputs": [],
   "source": [
    "%%time\n",
    "\n",
    "for i, row in lv_loads_grid.iterrows():\n",
    "    shortest_tree_district_graph.add_edge(i, row.nn, 0, length=row.nn_dist,\n",
    "                                          geometry=LineString([row.nn_coords, row.raccordement_building]))\n",
    "    shortest_tree_district_graph.nodes[i]['x'] = row.raccordement_building.x\n",
    "    shortest_tree_district_graph.nodes[i]['y'] = row.raccordement_building.y"
   ]
  },
  {
   "cell_type": "code",
   "execution_count": null,
   "id": "67392159-9980-48c9-9baf-6b9cd0be92d6",
   "metadata": {},
   "outputs": [],
   "source": [
    "ox.plot_graph(shortest_tree_district_graph)"
   ]
  },
  {
   "cell_type": "code",
   "execution_count": null,
   "id": "2c1ce18d-f147-4c27-85f7-2b9183167ecf",
   "metadata": {},
   "outputs": [],
   "source": [
    "shortest_tree_district_graph.nodes[2274291202]\n"
   ]
  },
  {
   "cell_type": "code",
   "execution_count": null,
   "id": "83e72ca7-eeba-4f6e-bc3b-e80943b0beb1",
   "metadata": {},
   "outputs": [],
   "source": []
  }
 ],
 "metadata": {
  "kernelspec": {
   "display_name": "Python 3 (ipykernel)",
   "language": "python",
   "name": "python3"
  },
  "language_info": {
   "codemirror_mode": {
    "name": "ipython",
    "version": 3
   },
   "file_extension": ".py",
   "mimetype": "text/x-python",
   "name": "python",
   "nbconvert_exporter": "python",
   "pygments_lexer": "ipython3",
   "version": "3.9.12"
  }
 },
 "nbformat": 4,
 "nbformat_minor": 5
}

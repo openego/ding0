{
 "cells": [
  {
   "cell_type": "code",
   "execution_count": 1,
   "id": "29f6c980-8725-444f-9e67-b9ef9baff52b",
   "metadata": {},
   "outputs": [],
   "source": [
    "import warnings\n",
    "\n",
    "from pandas.core.common import SettingWithCopyWarning\n",
    "\n",
    "warnings.simplefilter(action=\"ignore\", category=SettingWithCopyWarning)\n",
    "warnings.simplefilter(action='ignore', category=FutureWarning)\n",
    "warnings.filterwarnings(\"ignore\", category=DeprecationWarning) \n"
   ]
  },
  {
   "cell_type": "code",
   "execution_count": 2,
   "id": "43d60fe7-7c20-4cf7-bd2a-645a967a2554",
   "metadata": {},
   "outputs": [],
   "source": [
    "%%capture\n",
    "\n",
    "from ding0.core import NetworkDing0\n",
    "from ding0.tools.logger import setup_logger\n",
    "from ding0.tools.results import save_nd_to_pickle\n",
    "from ding0.tools.plots import plot_mv_topology\n",
    "from egoio.tools import db\n",
    "from sqlalchemy.orm import sessionmaker\n",
    "import oedialect\n",
    "\n",
    "from ding0.tools import results # to load pickl file\n",
    "\n",
    "\n",
    "# create new network\n",
    "nd = NetworkDing0(name='network')\n",
    "\n",
    "\n",
    "# set ID of MV grid district\n",
    "mv_grid_districts = [40] # fn 40, 912"
   ]
  },
  {
   "cell_type": "code",
   "execution_count": 3,
   "id": "c8dc79f9-ce55-4292-957a-9bb42aa2b8bd",
   "metadata": {},
   "outputs": [],
   "source": [
    "# TODO set in config file\n",
    "ding0_default=False\n",
    "\n",
    "engine = db.connection(section='oedb_dialect', readonly=True)\n",
    "session = sessionmaker(bind=engine)()\n",
    "create_lvgd_geo_method='convex_hull' # off, convex_hull"
   ]
  },
  {
   "cell_type": "code",
   "execution_count": 4,
   "id": "619a3f48-6223-461a-b374-db976f389bdd",
   "metadata": {},
   "outputs": [
    {
     "name": "stderr",
     "output_type": "stream",
     "text": [
      "Finding connected graph, iteration 1 of max. 4.\n",
      "Simplified graph: 94 to 22 nodes, 170 to 26 edges\n",
      "Simplified graph: 716 to 479 nodes, 1484 to 1010 edges\n",
      "at least one node trespasses dist to substation.                                cluster again with n_clusters+=1\n",
      "after increment; n_cluster 5\n",
      "all clusters are in range\n",
      "=====> MV Grid Districts imported\n"
     ]
    },
    {
     "name": "stdout",
     "output_type": "stream",
     "text": [
      "CPU times: total: 4.92 s\n",
      "Wall time: 7.5 s\n"
     ]
    }
   ],
   "source": [
    "%%time\n",
    "\n",
    "# STEP 1\n",
    "nd.import_mv_grid_districts(session, mv_grid_districts_no=mv_grid_districts,\n",
    "                            ding0_default=ding0_default, need_parameterization=True,\n",
    "                            create_lvgd_geo_method=create_lvgd_geo_method)"
   ]
  },
  {
   "cell_type": "code",
   "execution_count": 6,
   "id": "d06be1b4-3140-480c-91c6-ccd3813135bc",
   "metadata": {},
   "outputs": [
    {
     "name": "stdout",
     "output_type": "stream",
     "text": [
      "CPU times: total: 15.6 ms\n",
      "Wall time: 8.8 ms\n"
     ]
    }
   ],
   "source": [
    "%%time\n",
    "\n",
    "# STEP 2\n",
    "# nd.import_generators(session, debug=False)\n",
    "\n",
    "# STEP 3\n",
    "nd.mv_parametrize_grid(debug=False)"
   ]
  },
  {
   "cell_type": "code",
   "execution_count": 7,
   "id": "7316bb1c-3ea2-4ff2-846f-1e97c8305d2e",
   "metadata": {},
   "outputs": [
    {
     "name": "stderr",
     "output_type": "stream",
     "text": [
      "\n"
     ]
    }
   ],
   "source": [
    "# STEP 4: Validate MV Grid Districts\n",
    "msg = nd.validate_grid_districts()"
   ]
  },
  {
   "cell_type": "code",
   "execution_count": null,
   "id": "1e7eda0a-b133-4a1e-b2b5-942f97e04f31",
   "metadata": {},
   "outputs": [],
   "source": [
    "%%time\n",
    "\n",
    "# STEP 5: Build LV grids\n",
    "nd.build_lv_grids()"
   ]
  },
  {
   "cell_type": "code",
   "execution_count": null,
   "id": "5f90efec-8ea4-443e-8fc7-ccdd2d9efb6a",
   "metadata": {},
   "outputs": [],
   "source": []
  }
 ],
 "metadata": {
  "kernelspec": {
   "display_name": "Python 3 (ipykernel)",
   "language": "python",
   "name": "python3"
  },
  "language_info": {
   "codemirror_mode": {
    "name": "ipython",
    "version": 3
   },
   "file_extension": ".py",
   "mimetype": "text/x-python",
   "name": "python",
   "nbconvert_exporter": "python",
   "pygments_lexer": "ipython3",
   "version": "3.9.12"
  }
 },
 "nbformat": 4,
 "nbformat_minor": 5
}
